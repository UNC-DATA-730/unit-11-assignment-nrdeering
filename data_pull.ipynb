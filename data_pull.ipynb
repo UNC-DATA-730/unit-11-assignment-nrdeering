{
 "cells": [
  {
   "cell_type": "code",
   "execution_count": 1,
   "id": "962cbe92-2b80-4d55-8215-1200ca35a898",
   "metadata": {
    "tags": []
   },
   "outputs": [],
   "source": [
    "from sklearn.datasets import fetch_california_housing\n",
    "\n",
    "california_housing = fetch_california_housing(as_frame=True)\n",
    "\n",
    "(\n",
    "    california_housing.data\n",
    "    .assign(MedianHouseValue=california_housing.target)\n",
    "    .to_csv('california-housing.csv', index=False)\n",
    ")"
   ]
  },
  {
   "cell_type": "code",
   "execution_count": null,
   "id": "dd55115c-6912-4bc8-956c-6809fc36e805",
   "metadata": {},
   "outputs": [],
   "source": []
  }
 ],
 "metadata": {
  "kernelspec": {
   "display_name": ".conda-data730:Python",
   "language": "python",
   "name": "conda-env-.conda-data730-py"
  },
  "language_info": {
   "codemirror_mode": {
    "name": "ipython",
    "version": 3
   },
   "file_extension": ".py",
   "mimetype": "text/x-python",
   "name": "python",
   "nbconvert_exporter": "python",
   "pygments_lexer": "ipython3",
   "version": "3.9.19"
  }
 },
 "nbformat": 4,
 "nbformat_minor": 5
}
